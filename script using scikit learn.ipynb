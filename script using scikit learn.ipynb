{
 "cells": [
  {
   "cell_type": "markdown",
   "metadata": {},
   "source": [
    "# <center> Akilhoussen Houzefa ONALY</center>"
   ]
  },
  {
   "cell_type": "markdown",
   "metadata": {},
   "source": [
    "# <center><font color=red>Classification musicale à l'aide de Scikit-learn</font></center>"
   ]
  },
  {
   "cell_type": "markdown",
   "metadata": {},
   "source": [
    "##  Extraction des descripteurs :"
   ]
  },
  {
   "cell_type": "markdown",
   "metadata": {},
   "source": [
    "Tout d'abord, on importe les différentes données à l'aide de la méthode \"loadtxt\" de numpy et d'une fonction readfile :"
   ]
  },
  {
   "cell_type": "code",
   "execution_count": 39,
   "metadata": {},
   "outputs": [],
   "source": [
    "import numpy as np\n",
    "import matplotlib.pyplot as plt\n",
    "\n",
    "donnees_app=np.loadtxt(\"donnees_app.txt\")\n",
    "donnees_test=np.loadtxt(\"donnees_test.txt\")\n",
    "classes=['classique','disco','jazz','rock']\n",
    "\n",
    "def readfile(nom):\n",
    "    with open(nom,'r') as f:\n",
    "        data=f.read().splitlines()\n",
    "    return np.array(data)\n",
    "\n",
    "app_noms=readfile(\"noms_app.txt\")\n",
    "app_classes=readfile(\"classes_app.txt\")\n",
    "test_noms=readfile(\"noms_test.txt\")\n",
    "test_classes=readfile(\"classes_test.txt\")"
   ]
  },
  {
   "cell_type": "markdown",
   "metadata": {},
   "source": [
    "On peut alors implémenter les différentes fonctions qui permettront de créer le vecteur des descripteurs pour chaque musique."
   ]
  },
  {
   "cell_type": "code",
   "execution_count": 40,
   "metadata": {},
   "outputs": [],
   "source": [
    "def rms(y): #calcule et retourne la RMS d'un vecteur\n",
    "    y=np.array(y)\n",
    "    return np.sqrt(sum(y*y)/len(y))\n",
    "\n",
    "def enveloppe_energie(x,taille): \n",
    "    \n",
    "    # Cette fonction prend en paramètres un vecteur contenant les valeurs \n",
    "    # d’amplitudes brutes d’un signal sonore, \n",
    "    # ainsi que la taille de la fenêtre temporelle utilisée \n",
    "    # (caractérisée par son nombre d’échantillons). \n",
    "    # Elle renvoie l’enveloppe d’énergie qui est un vecteur \n",
    "    # contenant les valeurs de RMS calculées pour chaque fenêtre. \n",
    "    # Un taux de recouvrement de chaque fenêtre de 50% est utilisé.\n",
    "    \n",
    "    n=len(x)\n",
    "    z=[]\n",
    "    i=0\n",
    "    while (i+taille)<n:\n",
    "        a=rms(x[i:i+taille])\n",
    "        z.append(a)\n",
    "        i=int(i+taille/2)\n",
    "    return np.array(z)\n",
    "\n",
    "#--------------------------------\n",
    "# On fixe la taille de la fenêtre :\n",
    "\n",
    "taille_f =  100\n",
    "#--------------------------------\n",
    "\n",
    "def centroide_temporel(x):\n",
    "    e=enveloppe_energie(x,taille_f)\n",
    "    ind=np.arange(1,len(e)+1)\n",
    "    return sum(e*ind)/sum(e)\n",
    "\n",
    "def energie_globale(x): \n",
    "    e=enveloppe_energie(x,taille_f)\n",
    "    return np.mean(e)\n",
    "\n",
    "def duree_effective(x,p_seuil): \n",
    "    \n",
    "    # calcule la durée effective à partir d'un seuil (en % du maximum)\n",
    "    # la durée est exprimée en nombre d'éléments supérieurs stricts au seuil\n",
    "    \n",
    "    e=enveloppe_energie(x,taille_f)\n",
    "    m=max(e)\n",
    "    seuil=p_seuil*m\n",
    "    n=np.nonzero(e>seuil)\n",
    "    return n[0].shape[0]\n",
    "\n",
    "#----------------------------------\n",
    "# On fixe le pourcentage seuil à 20% \n",
    "# pour la durée effective :\n",
    "\n",
    "p_s =  0.2\n",
    "#-----------------------------------\n",
    "\n",
    "def zcr(x): \n",
    "    \n",
    "    # calcule le taux de passage par zéro\n",
    "    \n",
    "    n=len(x)\n",
    "    A=np.sign(x[:-1])\n",
    "    B=np.sign(x[1:])\n",
    "    return 0.5*sum((A-B))\n",
    "\n",
    "def vecteur_descripteurs(x): \n",
    "    \n",
    "    #renvoie le vecteur des descripteurs pour un vecteur x d'amplitudes sonores \n",
    "    \n",
    "    e=energie_globale(x)\n",
    "    c=centroide_temporel(x)\n",
    "    d=duree_effective(x,p_s)\n",
    "    z=zcr(x)\n",
    "    return np.array([e,c,d,z])\n",
    "\n",
    "def descripteurs_app(): \n",
    "    \n",
    "    # Cette fonction calcule le vecteur des descripteurs \n",
    "    # pour chaque musique de \"donnees_app.txt\"\n",
    "    # et retourne le résultat \n",
    "    # sous forme de tableau numpy de taille 24x4\n",
    "    \n",
    "    res=np.zeros([24,4])\n",
    "    for k in range(24):\n",
    "        v=vecteur_descripteurs(donnees_app[k,:])\n",
    "        res[k,:]=v\n",
    "    return res\n",
    "\n",
    "def normalisation_app(): \n",
    "    \n",
    "    # Cette fonction permet de normaliser les descripteurs \n",
    "    # pour chaque musique de \"donnees_app.txt\"\n",
    "    \n",
    "    d=descripteurs_app()\n",
    "    moy=d.mean(0)\n",
    "    ec=d.std(0)\n",
    "    return (d-moy)/ec\n",
    "\n",
    "def descripteurs_test(): \n",
    "    \n",
    "    # Cette fonction calcule le vecteur des descripteurs \n",
    "    # pour chaque musique de \"donnees_test.txt\"\n",
    "    # et retourne le résultat \n",
    "    # sous forme de tableau numpy de taille 24x4\n",
    "    \n",
    "    res=np.zeros([24,4])\n",
    "    for k in range(24):\n",
    "        v=vecteur_descripteurs(donnees_test[k,:])\n",
    "        res[k,:]=v\n",
    "    return res\n",
    "\n",
    "def normalisation_test():\n",
    "    \n",
    "    # Cette fonction permet de normaliser les descripteurs \n",
    "    # pour chaque musique de \"donnees_test.txt\"\n",
    "    # on normalise en utilisant les moyennes et écarts-types\n",
    "    # des descripteurs de \"donnees_app.txt\"\n",
    "    \n",
    "    d=descripteurs_app()\n",
    "    moy=d.mean(0)\n",
    "    ec=d.std(0)\n",
    "    r=descripteurs_test()\n",
    "    return (r-moy)/ec"
   ]
  },
  {
   "cell_type": "markdown",
   "metadata": {},
   "source": [
    "##  Apprentissage avec Scikit-learn :"
   ]
  },
  {
   "cell_type": "code",
   "execution_count": 41,
   "metadata": {},
   "outputs": [],
   "source": [
    "X_train=normalisation_app()\n",
    "X_test=normalisation_test()\n",
    "Y_train=app_classes\n",
    "Y_test=test_classes"
   ]
  },
  {
   "cell_type": "code",
   "execution_count": 42,
   "metadata": {},
   "outputs": [],
   "source": [
    "from sklearn.neighbors import KNeighborsClassifier"
   ]
  },
  {
   "cell_type": "code",
   "execution_count": 43,
   "metadata": {},
   "outputs": [
    {
     "data": {
      "text/plain": [
       "KNeighborsClassifier(n_neighbors=3)"
      ]
     },
     "execution_count": 43,
     "metadata": {},
     "output_type": "execute_result"
    }
   ],
   "source": [
    "k = 3\n",
    "#Train Model and Predict  \n",
    "neigh = KNeighborsClassifier(n_neighbors = k).fit(X_train,Y_train)\n",
    "neigh"
   ]
  },
  {
   "cell_type": "code",
   "execution_count": 44,
   "metadata": {},
   "outputs": [
    {
     "data": {
      "text/plain": [
       "array(['3', '1', '1', '2', '1', '1', '2', '2', '2', '2', '2', '2', '3',\n",
       "       '3', '2', '1', '3', '3', '4', '2', '1', '2', '1', '3'], dtype='<U1')"
      ]
     },
     "execution_count": 44,
     "metadata": {},
     "output_type": "execute_result"
    }
   ],
   "source": [
    "yhat = neigh.predict(X_test)\n",
    "yhat"
   ]
  },
  {
   "cell_type": "markdown",
   "metadata": {},
   "source": [
    "##  Calcul de la précision :"
   ]
  },
  {
   "cell_type": "code",
   "execution_count": 52,
   "metadata": {},
   "outputs": [
    {
     "name": "stdout",
     "output_type": "stream",
     "text": [
      "Train set Accuracy:  0.5416666666666666\n",
      "Test set Accuracy:  0.625\n"
     ]
    }
   ],
   "source": [
    "from sklearn import metrics\n",
    "print(\"Train set Accuracy: \", metrics.accuracy_score(Y_train, neigh.predict(X_train)))\n",
    "print(\"Test set Accuracy: \", metrics.accuracy_score(Y_test, yhat))"
   ]
  },
  {
   "cell_type": "code",
   "execution_count": 46,
   "metadata": {},
   "outputs": [
    {
     "data": {
      "text/plain": [
       "array([0.5       , 0.45833333, 0.625     , 0.54166667, 0.45833333,\n",
       "       0.58333333, 0.45833333, 0.54166667, 0.5       , 0.54166667,\n",
       "       0.45833333, 0.41666667, 0.33333333, 0.20833333, 0.25      ,\n",
       "       0.33333333, 0.375     , 0.375     , 0.45833333, 0.45833333,\n",
       "       0.41666667, 0.41666667, 0.375     ])"
      ]
     },
     "execution_count": 46,
     "metadata": {},
     "output_type": "execute_result"
    }
   ],
   "source": [
    "Ks = 24\n",
    "mean_acc = np.zeros((Ks-1))\n",
    "for n in range(1,Ks):\n",
    "    \n",
    "    #Train Model and Predict  \n",
    "    neigh2 = KNeighborsClassifier(n_neighbors = n).fit(X_train,Y_train)\n",
    "    yhat2=neigh2.predict(X_test)\n",
    "    mean_acc[n-1] = metrics.accuracy_score(Y_test, yhat2)\n",
    "\n",
    "mean_acc"
   ]
  },
  {
   "cell_type": "code",
   "execution_count": 47,
   "metadata": {},
   "outputs": [
    {
     "data": {
      "image/png": "[encoded data removed]",
      "text/plain": [
       "<Figure size 432x288 with 1 Axes>"
      ]
     },
     "metadata": {
      "needs_background": "light"
     },
     "output_type": "display_data"
    }
   ],
   "source": [
    "import matplotlib.pyplot as plt\n",
    "plt.plot(range(1,Ks),mean_acc)\n",
    "plt.ylabel('Accuracy ')\n",
    "plt.xlabel('Number of Neighbors (K)')\n",
    "plt.tight_layout()\n",
    "plt.show()"
   ]
  },
  {
   "cell_type": "code",
   "execution_count": 48,
   "metadata": {},
   "outputs": [
    {
     "name": "stdout",
     "output_type": "stream",
     "text": [
      "The best accuracy was with 0.625 with k= 3\n"
     ]
    }
   ],
   "source": [
    "print( \"The best accuracy was with\", mean_acc.max(), \"with k=\", mean_acc.argmax()+1) "
   ]
  },
  {
   "cell_type": "markdown",
   "metadata": {},
   "source": [
    "##  Prédiction :"
   ]
  },
  {
   "cell_type": "code",
   "execution_count": 54,
   "metadata": {},
   "outputs": [],
   "source": [
    "def prediction(titre):\n",
    "    n=np.where(test_noms==titre)\n",
    "    m=int(yhat[n])\n",
    "    text='Le genre le plus probable pour '+titre+' est : '\n",
    "    return text+classes[m-1]\n",
    "    "
   ]
  },
  {
   "cell_type": "code",
   "execution_count": 53,
   "metadata": {},
   "outputs": [
    {
     "name": "stdout",
     "output_type": "stream",
     "text": [
      "Le genre le plus probable pour mozart-figaro003 est : classique\n"
     ]
    }
   ],
   "source": [
    "print(prediction('mozart-figaro003'))"
   ]
  },
  {
   "cell_type": "code",
   "execution_count": null,
   "metadata": {},
   "outputs": [],
   "source": []
  }
 ],
 "metadata": {
  "kernelspec": {
   "display_name": "Python 3",
   "language": "python",
   "name": "python3"
  },
  "language_info": {
   "codemirror_mode": {
    "name": "ipython",
    "version": 3
   },
   "file_extension": ".py",
   "mimetype": "text/x-python",
   "name": "python",
   "nbconvert_exporter": "python",
   "pygments_lexer": "ipython3",
   "version": "3.8.3"
  }
 },
 "nbformat": 4,
 "nbformat_minor": 4
}
